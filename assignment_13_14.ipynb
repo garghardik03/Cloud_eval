{
 "cells": [
  {
   "cell_type": "code",
   "execution_count": 1,
   "metadata": {},
   "outputs": [
    {
     "name": "stdout",
     "output_type": "stream",
     "text": [
      "<pymongo.results.InsertManyResult object at 0x00000274C14E0BE0>\n"
     ]
    }
   ],
   "source": [
    "#connect to mongoDB \n",
    "import pymongo\n",
    "from pymongo import MongoClient\n",
    "\n",
    "client = MongoClient('localhost', 27017)\n",
    "\n",
    "#create a database named cloud\n",
    "db = client.cloud\n",
    "\n",
    "#create a collection named games\n",
    "games = db.games\n",
    "\n",
    "#insert 5 documents into the collection\n",
    "game1 = {\"name\": \"League of Legends\", \"genre\": \"MOBA\", \"rating\": 5}\n",
    "game2 = {\"name\": \"Overwatch\", \"genre\": \"FPS\", \"rating\": 5}\n",
    "game3 = {\"name\": \"Fortnite\", \"genre\": \"Battle Royale\", \"rating\": 4}\n",
    "game4 = {\"name\": \"World of Warcraft\", \"genre\": \"MMORPG\", \"rating\": 5}\n",
    "game5 = {\"name\": \"Hearthstone\", \"genre\": \"Card Game\", \"rating\": 4}\n",
    "\n",
    "res = games.insert_many([game1, game2, game3, game4, game5])\n",
    "\n",
    "print(res.res)"
   ]
  },
  {
   "cell_type": "code",
   "execution_count": 8,
   "metadata": {},
   "outputs": [
    {
     "name": "stdout",
     "output_type": "stream",
     "text": [
      "{'_id': ObjectId('6562ad5487d46dc218201d79'), 'name': 'League of Legends', 'genre': 'MOBA', 'rating': 5}\n",
      "{'_id': ObjectId('6562ad5487d46dc218201d7a'), 'name': 'Overwatch', 'genre': 'FPS', 'rating': 5}\n",
      "{'_id': ObjectId('6562ad5487d46dc218201d7b'), 'name': 'Fortnite', 'genre': 'Battle Royale', 'rating': 4}\n",
      "{'_id': ObjectId('6562ad5487d46dc218201d7c'), 'name': 'World of Warcraft', 'genre': 'MMORPG', 'rating': 5}\n",
      "{'_id': ObjectId('6562ad5487d46dc218201d7d'), 'name': 'Hearthstone', 'genre': 'Card Game', 'rating': 4}\n",
      "{'_id': ObjectId('6562ad6c87d46dc218201d7f'), 'name': 'League of Legends', 'genre': 'MOBA', 'rating': 5}\n",
      "{'_id': ObjectId('6562ad6c87d46dc218201d80'), 'name': 'Overwatch', 'genre': 'FPS', 'rating': 5}\n",
      "{'_id': ObjectId('6562ad6c87d46dc218201d81'), 'name': 'Fortnite', 'genre': 'Battle Royale', 'rating': 4}\n",
      "{'_id': ObjectId('6562ad6c87d46dc218201d82'), 'name': 'World of Warcraft', 'genre': 'MMORPG', 'rating': 5}\n",
      "{'_id': ObjectId('6562ad6c87d46dc218201d83'), 'name': 'Hearthstone', 'genre': 'Card Game', 'rating': 4}\n",
      "{'_id': ObjectId('6562ad7487d46dc218201d85'), 'name': 'League of Legends', 'genre': 'MOBA', 'rating': 5}\n",
      "{'_id': ObjectId('6562ad7487d46dc218201d86'), 'name': 'Overwatch', 'genre': 'FPS', 'rating': 5}\n",
      "{'_id': ObjectId('6562ad7487d46dc218201d87'), 'name': 'Fortnite', 'genre': 'Battle Royale', 'rating': 4}\n",
      "{'_id': ObjectId('6562ad7487d46dc218201d88'), 'name': 'World of Warcraft', 'genre': 'MMORPG', 'rating': 5}\n",
      "{'_id': ObjectId('6562ad7487d46dc218201d89'), 'name': 'Hearthstone', 'genre': 'Card Game', 'rating': 4}\n"
     ]
    }
   ],
   "source": [
    "# query to return all documents in the collection\n",
    "results = games.find()\n",
    "for result in results:\n",
    "    print(result)"
   ]
  },
  {
   "cell_type": "code",
   "execution_count": 9,
   "metadata": {},
   "outputs": [
    {
     "name": "stdout",
     "output_type": "stream",
     "text": [
      "{'_id': ObjectId('6562ad5487d46dc218201d7a'), 'name': 'Overwatch', 'genre': 'FPS', 'rating': 5}\n",
      "{'_id': ObjectId('6562ad6c87d46dc218201d80'), 'name': 'Overwatch', 'genre': 'FPS', 'rating': 5}\n",
      "{'_id': ObjectId('6562ad7487d46dc218201d86'), 'name': 'Overwatch', 'genre': 'FPS', 'rating': 5}\n"
     ]
    }
   ],
   "source": [
    "#query to find a game using game name as the search criteria\n",
    "results = games.find({\"name\": \"Overwatch\"})\n",
    "for result in results:\n",
    "    print(result)"
   ]
  },
  {
   "cell_type": "code",
   "execution_count": 11,
   "metadata": {},
   "outputs": [
    {
     "name": "stdout",
     "output_type": "stream",
     "text": [
      "{'_id': ObjectId('6562ad5487d46dc218201d7c'), 'name': 'World of Warcraft', 'genre': 'MMORPG', 'rating': 5}\n",
      "{'_id': ObjectId('6562ad5487d46dc218201d79'), 'name': 'League of Legends', 'genre': 'MOBA', 'rating': 5}\n",
      "{'_id': ObjectId('6562ad5487d46dc218201d7a'), 'name': 'Overwatch', 'genre': 'FPS', 'rating': 5}\n"
     ]
    }
   ],
   "source": [
    "#query to return 3 games with the highest rating\n",
    "results_1 = games.find().sort(\"rating\", -1).limit(3)\n",
    "for result in results_1:\n",
    "    print(result)"
   ]
  },
  {
   "cell_type": "code",
   "execution_count": 6,
   "metadata": {},
   "outputs": [
    {
     "data": {
      "text/plain": [
       "<pymongo.results.InsertManyResult at 0x274c1edb160>"
      ]
     },
     "execution_count": 6,
     "metadata": {},
     "output_type": "execute_result"
    }
   ],
   "source": [
    "# switch to mapdb database\n",
    "db = client.mapdb\n",
    "db.create_collection(\"customer\")\n",
    "db.cust.insert_many([\n",
    "    {\"id\": \"A123\",\"amount\":500,\"status\":\"A\"},\n",
    "    {\"id\": \"A123\",\"amount\":250,\"status\":\"A\"},\n",
    "    {\"id\": \"B212\",\"amount\":200,\"status\":\"A\"},\n",
    "    {\"id\": \"A123\",\"amount\":300,\"status\":\"D\"}\n",
    "])\n"
   ]
  },
  {
   "cell_type": "code",
   "execution_count": 7,
   "metadata": {},
   "outputs": [
    {
     "name": "stdout",
     "output_type": "stream",
     "text": [
      "{'_id': 'B212', 'total': 200}\n",
      "{'_id': 'A123', 'total': 750}\n"
     ]
    }
   ],
   "source": [
    "#take data of \"A\" status and sum the amount based on id\n",
    "results = db.cust.aggregate([\n",
    "    {\"$match\":{\"status\":\"A\"}},\n",
    "    {\"$group\":{\"_id\":\"$id\",\"total\":{\"$sum\":\"$amount\"}}}\n",
    "])\n",
    "for result in results:\n",
    "    print(result)"
   ]
  }
 ],
 "metadata": {
  "kernelspec": {
   "display_name": "Python 3",
   "language": "python",
   "name": "python3"
  },
  "language_info": {
   "codemirror_mode": {
    "name": "ipython",
    "version": 3
   },
   "file_extension": ".py",
   "mimetype": "text/x-python",
   "name": "python",
   "nbconvert_exporter": "python",
   "pygments_lexer": "ipython3",
   "version": "3.11.4"
  }
 },
 "nbformat": 4,
 "nbformat_minor": 2
}
